{
  "nbformat": 4,
  "nbformat_minor": 0,
  "metadata": {
    "colab": {
      "provenance": []
    },
    "kernelspec": {
      "name": "python3",
      "display_name": "Python 3"
    },
    "language_info": {
      "name": "python"
    }
  },
  "cells": [
    {
      "cell_type": "markdown",
      "source": [
        "# Add CNN Layers"
      ],
      "metadata": {
        "id": "CxnaYTacuthU"
      }
    },
    {
      "cell_type": "code",
      "source": [
        "#create model\n",
        "model=Sequential ()"
      ],
      "metadata": {
        "id": "-6o-EdOCy6rO"
      },
      "execution_count": 11,
      "outputs": []
    },
    {
      "cell_type": "code",
      "source": [
        "#adding modeL Layer\n",
        "model.add(Conv2D(64, (3, 3), input_shape=(28, 28, 1), activation='relu'))\n",
        "model.add(Conv2D(32, (3, 3), activation = 'relu'))"
      ],
      "metadata": {
        "id": "w9o5uPTzy9Y3"
      },
      "execution_count": 12,
      "outputs": []
    },
    {
      "cell_type": "code",
      "source": [
        "#flatten the dimension of the image\n",
        "model.add(Flatten())"
      ],
      "metadata": {
        "id": "k_LTg339zBWd"
      },
      "execution_count": 13,
      "outputs": []
    },
    {
      "cell_type": "code",
      "source": [
        "#output layer with 10 neurons\n",
        "model.add(Dense(number_of_classes,activation = 'softmax'))"
      ],
      "metadata": {
        "id": "8bAsSfDwzG2I"
      },
      "execution_count": 14,
      "outputs": []
    }
  ]
}