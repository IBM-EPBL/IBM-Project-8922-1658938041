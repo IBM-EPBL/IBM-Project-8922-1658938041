{
  "nbformat": 4,
  "nbformat_minor": 0,
  "metadata": {
    "colab": {
      "provenance": []
    },
    "kernelspec": {
      "name": "python3",
      "display_name": "Python 3"
    },
    "language_info": {
      "name": "python"
    }
  },
  "cells": [
    {
      "cell_type": "markdown",
      "source": [
        "\n",
        "# Test The Model"
      ],
      "metadata": {
        "id": "B5byH3Wqk2er"
      }
    },
    {
      "cell_type": "code",
      "source": [
        "prediction=model.predict(x_test[6000:6001])\n",
        "print(prediction)"
      ],
      "metadata": {
        "id": "S_Nbu5h9rJgl",
        "colab": {
          "base_uri": "https://localhost:8080/"
        },
        "outputId": "64fe3434-c1d5-44a9-f893-6a4257b03667"
      },
      "execution_count": null,
      "outputs": [
        {
          "output_type": "stream",
          "name": "stdout",
          "text": [
            "1/1 [==============================] - 0s 158ms/step\n",
            "[[3.3685468e-23 6.7805488e-32 7.7905596e-25 4.4999151e-09 1.1806234e-04\n",
            "  6.6805527e-15 3.7942914e-20 1.1079325e-11 3.7944363e-05 9.9984396e-01]]\n"
          ]
        }
      ]
    },
    {
      "cell_type": "code",
      "source": [
        "import numpy as np\n",
        "print(np.argmax(prediction, axis=1)) #printing our Labels from first 4 images"
      ],
      "metadata": {
        "id": "QRnrydxgrOGc",
        "colab": {
          "base_uri": "https://localhost:8080/"
        },
        "outputId": "fcaffbe7-03e2-49a8-d669-f5c867c76ede"
      },
      "execution_count": null,
      "outputs": [
        {
          "output_type": "stream",
          "name": "stdout",
          "text": [
            "[9]\n"
          ]
        }
      ]
    },
    {
      "cell_type": "code",
      "source": [
        "np.argmax(y_test[6000:6001]) #printing the actual labels"
      ],
      "metadata": {
        "id": "o-3HN9v6rRKq",
        "colab": {
          "base_uri": "https://localhost:8080/"
        },
        "outputId": "61ce6beb-769b-44d5-ec7e-21cbd5c8b3d3"
      },
      "execution_count": null,
      "outputs": [
        {
          "output_type": "execute_result",
          "data": {
            "text/plain": [
              "9"
            ]
          },
          "metadata": {},
          "execution_count": 33
        }
      ]
    }
  ]
}