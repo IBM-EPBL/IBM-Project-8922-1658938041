{
  "nbformat": 4,
  "nbformat_minor": 0,
  "metadata": {
    "colab": {
      "provenance": []
    },
    "kernelspec": {
      "name": "python3",
      "display_name": "Python 3"
    },
    "language_info": {
      "name": "python"
    }
  },
  "cells": [
    {
      "cell_type": "markdown",
      "source": [
        "# Train the model"
      ],
      "metadata": {
        "id": "wotUeW-Yksyb"
      }
    },
    {
      "cell_type": "code",
      "source": [
        "#fit the model\n",
        "model.fit(x_train, y_train, validation_data=(x_test, y_test), epochs=5, batch_size=32)"
      ],
      "metadata": {
        "colab": {
          "base_uri": "https://localhost:8080/"
        },
        "id": "1aGWRjwIppmh",
        "outputId": "7b341207-45a4-4fca-ff06-2a15151c9339"
      },
      "execution_count": null,
      "outputs": [
        {
          "output_type": "stream",
          "name": "stdout",
          "text": [
            "Epoch 1/5\n",
            "1875/1875 [==============================] - 190s 101ms/step - loss: 0.0159 - accuracy: 0.9958 - val_loss: 0.1763 - val_accuracy: 0.9789\n",
            "Epoch 2/5\n",
            "1875/1875 [==============================] - 185s 99ms/step - loss: 0.0154 - accuracy: 0.9968 - val_loss: 0.1729 - val_accuracy: 0.9787\n",
            "Epoch 3/5\n",
            "1875/1875 [==============================] - 184s 98ms/step - loss: 0.0132 - accuracy: 0.9971 - val_loss: 0.1894 - val_accuracy: 0.9800\n",
            "Epoch 4/5\n",
            "1875/1875 [==============================] - 186s 99ms/step - loss: 0.0197 - accuracy: 0.9963 - val_loss: 0.2278 - val_accuracy: 0.9805\n",
            "Epoch 5/5\n",
            "1875/1875 [==============================] - 186s 99ms/step - loss: 0.0158 - accuracy: 0.9970 - val_loss: 0.2590 - val_accuracy: 0.9807\n"
          ]
        },
        {
          "output_type": "execute_result",
          "data": {
            "text/plain": [
              "<keras.callbacks.History at 0x7fe4910a6790>"
            ]
          },
          "metadata": {},
          "execution_count": 27
        }
      ]
    }
  ]
}